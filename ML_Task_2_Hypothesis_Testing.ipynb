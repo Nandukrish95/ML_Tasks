{
 "cells": [
  {
   "cell_type": "markdown",
   "id": "7396b2ac-fd84-45dd-8107-33510fb207c7",
   "metadata": {},
   "source": [
    "## Q1.Suppose a child psychologist claims that the average time working mothers spend talking to their children is at least 11 minutes per day. You conduct a random sample of 1000 working mothers and find they spend an average of 11.5 minutes per day talking with their children. Assume prior research suggests the population standard deviation is 2.3 minutes.Conduct a test with a level of significance of alpha = 0.05."
   ]
  },
  {
   "cell_type": "code",
   "execution_count": 1,
   "id": "78a55eab-57d9-4f42-8cfa-de4fc4cd46b7",
   "metadata": {},
   "outputs": [],
   "source": [
    "import numpy as np\n",
    "from scipy import stats"
   ]
  },
  {
   "cell_type": "markdown",
   "id": "4df01a2f-ef84-4599-a401-7a37a7c5f25f",
   "metadata": {},
   "source": [
    "### Null Hypothesis - average time spend >= 11 minutes\n",
    "### Alternate Hypothesis - average time spend < 11 minutes"
   ]
  },
  {
   "cell_type": "code",
   "execution_count": 2,
   "id": "776ba425-c67c-427a-8e32-4626907860e1",
   "metadata": {},
   "outputs": [],
   "source": [
    "alpha = 0.05\n",
    "CI = 0.95\n",
    "population_mean = 11\n",
    "sample_size = 1000\n",
    "sample_mean = 11.5\n",
    "population_std = 2.3"
   ]
  },
  {
   "cell_type": "code",
   "execution_count": 3,
   "id": "1216c672-0d41-4478-89d8-f72c7e465654",
   "metadata": {},
   "outputs": [
    {
     "data": {
      "text/plain": [
       "0.2173913043478261"
      ]
     },
     "execution_count": 3,
     "metadata": {},
     "output_type": "execute_result"
    }
   ],
   "source": [
    "z_score = (sample_mean - population_mean)/population_std\n",
    "z_score"
   ]
  },
  {
   "cell_type": "markdown",
   "id": "d580e983-3883-401a-8b0e-edc303ec23bf",
   "metadata": {},
   "source": [
    "### critical value for alpha = 0.05 is -1.645 for left tail"
   ]
  },
  {
   "cell_type": "markdown",
   "id": "9306d2f7-7fee-4ec1-86d3-0527650efbb2",
   "metadata": {},
   "source": [
    "### Here the z_score value falls in acceptance area\n",
    "### So we should accept the null hypothesis\n",
    "### We can say that with 95% level of confidence we can accept the null hypothesis"
   ]
  },
  {
   "cell_type": "code",
   "execution_count": null,
   "id": "17b9173c-abff-4d12-a0d1-1c4ec325d904",
   "metadata": {},
   "outputs": [],
   "source": []
  },
  {
   "cell_type": "markdown",
   "id": "769ac3d8-a918-456e-8a5c-82d927f5a4e9",
   "metadata": {},
   "source": [
    "## Q2 A coffee shop claims that their average wait time for customers is less than 5 minutes. To test this claim, a sample of 40 customers is taken, and their wait times are recorded. The sample mean wait time is found to be 4.6 minutes with a standard deviation of 0.8 minutes. Perform a hypothesis test at a significance level of 0.05 and determine whether there is enough evidence to support the coffee shop's claim."
   ]
  },
  {
   "cell_type": "markdown",
   "id": "ef25abfc-afe5-4751-bab2-eff3669375fe",
   "metadata": {},
   "source": [
    "### Null Hypothesis - Average Wait Time < 5 minutes\n",
    "### Alternate Hypothesis - Average Wait Time >= 5 minutes"
   ]
  },
  {
   "cell_type": "code",
   "execution_count": 5,
   "id": "63739ac4-bce8-4b0d-9941-0dd88991e7ee",
   "metadata": {},
   "outputs": [],
   "source": [
    "population_mean = 5\n",
    "sample_mean = 4.6\n",
    "sample_std = 0.8\n",
    "sample_size = 40\n",
    "alpha = 0.05"
   ]
  },
  {
   "cell_type": "code",
   "execution_count": 8,
   "id": "01e2f218-05ca-4d96-a166-6f2e5f79c3d1",
   "metadata": {},
   "outputs": [
    {
     "data": {
      "text/plain": [
       "-3.162277660168382"
      ]
     },
     "execution_count": 8,
     "metadata": {},
     "output_type": "execute_result"
    }
   ],
   "source": [
    "t_score = (sample_mean - population_mean)/(sample_std/np.sqrt(sample_size))\n",
    "t_score"
   ]
  },
  {
   "cell_type": "code",
   "execution_count": 9,
   "id": "e98d8fae-6b7c-45cc-9885-2e9c2d6d0050",
   "metadata": {},
   "outputs": [
    {
     "data": {
      "text/plain": [
       "39"
      ]
     },
     "execution_count": 9,
     "metadata": {},
     "output_type": "execute_result"
    }
   ],
   "source": [
    "degrees_of_freedom = sample_size - 1\n",
    "degrees_of_freedom"
   ]
  },
  {
   "cell_type": "markdown",
   "id": "c20552f5-8d9b-4f3e-9dc5-931bc857b3fb",
   "metadata": {},
   "source": [
    "## critical value = -1.685"
   ]
  },
  {
   "cell_type": "markdown",
   "id": "21a3aded-f38b-472f-bb01-65438fc3d4d6",
   "metadata": {},
   "source": [
    "### Here the z_score value falls in rejection area\n",
    "### So we should reject the null hypothesis\n",
    "### We can say that with 95% level of confidence there is not enough evidence to support the coffee shop's claim"
   ]
  },
  {
   "cell_type": "code",
   "execution_count": null,
   "id": "350e3e90-5085-47e6-9e1a-ebe215d75b1c",
   "metadata": {},
   "outputs": [],
   "source": []
  }
 ],
 "metadata": {
  "kernelspec": {
   "display_name": "Python 3 (ipykernel)",
   "language": "python",
   "name": "python3"
  },
  "language_info": {
   "codemirror_mode": {
    "name": "ipython",
    "version": 3
   },
   "file_extension": ".py",
   "mimetype": "text/x-python",
   "name": "python",
   "nbconvert_exporter": "python",
   "pygments_lexer": "ipython3",
   "version": "3.12.1"
  }
 },
 "nbformat": 4,
 "nbformat_minor": 5
}
